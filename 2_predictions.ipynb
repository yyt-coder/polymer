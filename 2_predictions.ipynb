{
 "cells": [
  {
   "cell_type": "code",
   "execution_count": 2,
   "id": "b3fe2a49",
   "metadata": {},
   "outputs": [],
   "source": [
    "import pandas as pd\n",
    "from predict import predict_test_folds, _latest_preds_file\n",
    "from evaluate import evaluate_predictions\n",
    "from portfolio import save_ret_mat, save_portfolios, save_alpha_metrics\n",
    "import os\n",
    "import logging\n",
    "import matplotlib.pyplot as plt\n",
    "\n",
    "logger = logging.getLogger(__name__)\n",
    "logging.basicConfig(level=logging.INFO)"
   ]
  },
  {
   "cell_type": "code",
   "execution_count": 3,
   "id": "82b21d0d",
   "metadata": {},
   "outputs": [
    {
     "data": {
      "application/vnd.microsoft.datawrangler.viewer.v0+json": {
       "columns": [
        {
         "name": "date",
         "rawType": "datetime64[ns]",
         "type": "datetime"
        },
        {
         "name": "split",
         "rawType": "int64",
         "type": "integer"
        },
        {
         "name": "model",
         "rawType": "object",
         "type": "string"
        },
        {
         "name": "stockid",
         "rawType": "object",
         "type": "string"
        },
        {
         "name": "y_true",
         "rawType": "float64",
         "type": "float"
        },
        {
         "name": "y_pred",
         "rawType": "float64",
         "type": "float"
        }
       ],
       "ref": "a38c5663-de40-47a4-a573-1f8318b7a536",
       "rows": [
        [
         "2018-01-03 00:00:00",
         "1",
         "linreg",
         "BBG000B9XG87",
         "-0.0025682616923492",
         "0.0007024041832502"
        ],
        [
         "2018-01-03 00:00:00",
         "1",
         "linreg",
         "BBG000B9XRY4",
         "0.0113853089059701",
         "0.0004412887017842"
        ],
        [
         "2018-01-03 00:00:00",
         "1",
         "linreg",
         "BBG000B9YJ35",
         "0.0121854902403249",
         "0.0004663099139169"
        ],
        [
         "2018-01-03 00:00:00",
         "1",
         "linreg",
         "BBG000B9ZXB4",
         "0.0028901734104047",
         "0.0006704995665253"
        ],
        [
         "2018-01-03 00:00:00",
         "1",
         "linreg",
         "BBG000BB03M1",
         "0.0061315496098104",
         "0.0009496489325821"
        ],
        [
         "2018-01-03 00:00:00",
         "1",
         "linreg",
         "BBG000BB1TH9",
         "0.0028163725122043",
         "0.000287703850443"
        ],
        [
         "2018-01-03 00:00:00",
         "1",
         "linreg",
         "BBG000BB5373",
         "0.0591259640102828",
         "0.0005073821693896"
        ],
        [
         "2018-01-03 00:00:00",
         "1",
         "linreg",
         "BBG000BB5B84",
         "0.0118494644042089",
         "0.0006271361699881"
        ],
        [
         "2018-01-03 00:00:00",
         "1",
         "linreg",
         "BBG000BB5BF6",
         "0.0196506550218341",
         "0.0004692933362803"
        ],
        [
         "2018-01-03 00:00:00",
         "1",
         "linreg",
         "BBG000BB6G37",
         "0.004052573932092",
         "0.0004099303463427"
        ],
        [
         "2018-01-03 00:00:00",
         "1",
         "linreg",
         "BBG000BB6M98",
         "-0.0069261213720316",
         "0.0003485462988019"
        ],
        [
         "2018-01-03 00:00:00",
         "1",
         "linreg",
         "BBG000BB9KF2",
         "-0.0021141649048627",
         "0.0008103708267206"
        ],
        [
         "2018-01-03 00:00:00",
         "1",
         "linreg",
         "BBG000BBBNC6",
         "0.0066188018846757",
         "0.0005507758419556"
        ],
        [
         "2018-01-03 00:00:00",
         "1",
         "linreg",
         "BBG000BBCDZ2",
         "0.0015526394871281",
         "0.0003884209953621"
        ],
        [
         "2018-01-03 00:00:00",
         "1",
         "linreg",
         "BBG000BBD070",
         "0.0310338011464715",
         "0.0002601574350867"
        ],
        [
         "2018-01-03 00:00:00",
         "1",
         "linreg",
         "BBG000BBGGQ1",
         "0.0047013569825835",
         "0.0004909863799404"
        ],
        [
         "2018-01-03 00:00:00",
         "1",
         "linreg",
         "BBG000BBHXQ3",
         "0.0045871559633028",
         "0.0005494641401928"
        ],
        [
         "2018-01-03 00:00:00",
         "1",
         "linreg",
         "BBG000BBJQV0",
         "0.0084741795027856",
         "0.0004036474617748"
        ],
        [
         "2018-01-03 00:00:00",
         "1",
         "linreg",
         "BBG000BBNYF6",
         "0.0080186764108811",
         "0.0004736459281316"
        ],
        [
         "2018-01-03 00:00:00",
         "1",
         "linreg",
         "BBG000BBPFB9",
         "0.0057100755203536",
         "0.0008860395190284"
        ],
        [
         "2018-01-03 00:00:00",
         "1",
         "linreg",
         "BBG000BBQCY0",
         "-0.0198019801980197",
         "0.0003435889831274"
        ],
        [
         "2018-01-03 00:00:00",
         "1",
         "linreg",
         "BBG000BBS2Y0",
         "0.0059583472547053",
         "0.0007040287905636"
        ],
        [
         "2018-01-03 00:00:00",
         "1",
         "linreg",
         "BBG000BBVJZ8",
         "-0.0027758501040943",
         "0.0010476084009145"
        ],
        [
         "2018-01-03 00:00:00",
         "1",
         "linreg",
         "BBG000BBXLW4",
         "0.0170173833485818",
         "0.0002241240654649"
        ],
        [
         "2018-01-03 00:00:00",
         "1",
         "linreg",
         "BBG000BC2C10",
         "-0.0096071733561059",
         "0.0003667826271651"
        ],
        [
         "2018-01-03 00:00:00",
         "1",
         "linreg",
         "BBG000BC2R71",
         "0.0168236877523553",
         "0.0008313036117414"
        ],
        [
         "2018-01-03 00:00:00",
         "1",
         "linreg",
         "BBG000BC40Y8",
         "-0.011320754716981",
         "0.0005679473198155"
        ],
        [
         "2018-01-03 00:00:00",
         "1",
         "linreg",
         "BBG000BC9938",
         "0.0001523925632427",
         "0.0007997904082411"
        ],
        [
         "2018-01-03 00:00:00",
         "1",
         "linreg",
         "BBG000BCG930",
         "0.0179401416098344",
         "0.0003532480802262"
        ],
        [
         "2018-01-03 00:00:00",
         "1",
         "linreg",
         "BBG000BCJ161",
         "-0.0508562532433836",
         "0.0008151696115091"
        ],
        [
         "2018-01-03 00:00:00",
         "1",
         "linreg",
         "BBG000BCMBG4",
         "0.0022727272727272",
         "0.0004646730368335"
        ],
        [
         "2018-01-03 00:00:00",
         "1",
         "linreg",
         "BBG000BCMWM1",
         "-0.008419844041525",
         "0.0005639572760073"
        ],
        [
         "2018-01-03 00:00:00",
         "1",
         "linreg",
         "BBG000BCQZS4",
         "0.0022806147744174",
         "0.0003560274264023"
        ],
        [
         "2018-01-03 00:00:00",
         "1",
         "linreg",
         "BBG000BCSST7",
         "0.0410220109886403",
         "0.0013504269801667"
        ],
        [
         "2018-01-03 00:00:00",
         "1",
         "linreg",
         "BBG000BCTLF6",
         "0.0046372971182508",
         "0.0006398673987851"
        ],
        [
         "2018-01-03 00:00:00",
         "1",
         "linreg",
         "BBG000BCTQ65",
         "-0.0070033955857384",
         "0.0003239290872653"
        ],
        [
         "2018-01-03 00:00:00",
         "1",
         "linreg",
         "BBG000BCVJ77",
         "0.0112556643765533",
         "0.0008445014203597"
        ],
        [
         "2018-01-03 00:00:00",
         "1",
         "linreg",
         "BBG000BCWCG1",
         "0.0236325802615933",
         "0.0006573530932636"
        ],
        [
         "2018-01-03 00:00:00",
         "1",
         "linreg",
         "BBG000BCZL41",
         "0.0088514006039779",
         "0.0007031061928736"
        ],
        [
         "2018-01-03 00:00:00",
         "1",
         "linreg",
         "BBG000BCZYD3",
         "0.004932349880085",
         "0.0006949189803288"
        ],
        [
         "2018-01-03 00:00:00",
         "1",
         "linreg",
         "BBG000BD3LM4",
         "-0.0087668030391583",
         "0.0008676169228548"
        ],
        [
         "2018-01-03 00:00:00",
         "1",
         "linreg",
         "BBG000BDDNH5",
         "0.00625814863103",
         "4.239272390010336e-05"
        ],
        [
         "2018-01-03 00:00:00",
         "1",
         "linreg",
         "BBG000BDWKC5",
         "0.007400828892836",
         "0.0006308179953269"
        ],
        [
         "2018-01-03 00:00:00",
         "1",
         "linreg",
         "BBG000BF0672",
         "-0.0102689486552567",
         "0.0005013393215959"
        ],
        [
         "2018-01-03 00:00:00",
         "1",
         "linreg",
         "BBG000BF6RQ9",
         "0.0029885057471263",
         "0.0009827770732354"
        ],
        [
         "2018-01-03 00:00:00",
         "1",
         "linreg",
         "BBG000BFC8J2",
         "-0.0158417697787777",
         "0.0008027632131219"
        ],
        [
         "2018-01-03 00:00:00",
         "1",
         "linreg",
         "BBG000BFDLV8",
         "0.0220257933632806",
         "0.0006315278401723"
        ],
        [
         "2018-01-03 00:00:00",
         "1",
         "linreg",
         "BBG000BFGNJ5",
         "-0.0320551682327979",
         "0.0006763106084761"
        ],
        [
         "2018-01-03 00:00:00",
         "1",
         "linreg",
         "BBG000BFJT36",
         "0.0026031237484982",
         "0.0006480668532376"
        ],
        [
         "2018-01-03 00:00:00",
         "1",
         "linreg",
         "BBG000BFL116",
         "0.0004339022273647",
         "0.000664064961794"
        ]
       ],
       "shape": {
        "columns": 5,
        "rows": 1012463
       }
      },
      "text/html": [
       "<div>\n",
       "<style scoped>\n",
       "    .dataframe tbody tr th:only-of-type {\n",
       "        vertical-align: middle;\n",
       "    }\n",
       "\n",
       "    .dataframe tbody tr th {\n",
       "        vertical-align: top;\n",
       "    }\n",
       "\n",
       "    .dataframe thead th {\n",
       "        text-align: right;\n",
       "    }\n",
       "</style>\n",
       "<table border=\"1\" class=\"dataframe\">\n",
       "  <thead>\n",
       "    <tr style=\"text-align: right;\">\n",
       "      <th></th>\n",
       "      <th>split</th>\n",
       "      <th>model</th>\n",
       "      <th>stockid</th>\n",
       "      <th>y_true</th>\n",
       "      <th>y_pred</th>\n",
       "    </tr>\n",
       "    <tr>\n",
       "      <th>date</th>\n",
       "      <th></th>\n",
       "      <th></th>\n",
       "      <th></th>\n",
       "      <th></th>\n",
       "      <th></th>\n",
       "    </tr>\n",
       "  </thead>\n",
       "  <tbody>\n",
       "    <tr>\n",
       "      <th>2018-01-03</th>\n",
       "      <td>1</td>\n",
       "      <td>linreg</td>\n",
       "      <td>BBG000B9XG87</td>\n",
       "      <td>-0.002568</td>\n",
       "      <td>0.000702</td>\n",
       "    </tr>\n",
       "    <tr>\n",
       "      <th>2018-01-03</th>\n",
       "      <td>1</td>\n",
       "      <td>linreg</td>\n",
       "      <td>BBG000B9XRY4</td>\n",
       "      <td>0.011385</td>\n",
       "      <td>0.000441</td>\n",
       "    </tr>\n",
       "    <tr>\n",
       "      <th>2018-01-03</th>\n",
       "      <td>1</td>\n",
       "      <td>linreg</td>\n",
       "      <td>BBG000B9YJ35</td>\n",
       "      <td>0.012185</td>\n",
       "      <td>0.000466</td>\n",
       "    </tr>\n",
       "    <tr>\n",
       "      <th>2018-01-03</th>\n",
       "      <td>1</td>\n",
       "      <td>linreg</td>\n",
       "      <td>BBG000B9ZXB4</td>\n",
       "      <td>0.002890</td>\n",
       "      <td>0.000670</td>\n",
       "    </tr>\n",
       "    <tr>\n",
       "      <th>2018-01-03</th>\n",
       "      <td>1</td>\n",
       "      <td>linreg</td>\n",
       "      <td>BBG000BB03M1</td>\n",
       "      <td>0.006132</td>\n",
       "      <td>0.000950</td>\n",
       "    </tr>\n",
       "    <tr>\n",
       "      <th>...</th>\n",
       "      <td>...</td>\n",
       "      <td>...</td>\n",
       "      <td>...</td>\n",
       "      <td>...</td>\n",
       "      <td>...</td>\n",
       "    </tr>\n",
       "    <tr>\n",
       "      <th>2024-08-28</th>\n",
       "      <td>11</td>\n",
       "      <td>linreg</td>\n",
       "      <td>BBG019Q32XJ9</td>\n",
       "      <td>0.005545</td>\n",
       "      <td>0.000623</td>\n",
       "    </tr>\n",
       "    <tr>\n",
       "      <th>2024-08-28</th>\n",
       "      <td>11</td>\n",
       "      <td>linreg</td>\n",
       "      <td>BBG01BFR8YV1</td>\n",
       "      <td>0.008801</td>\n",
       "      <td>0.000708</td>\n",
       "    </tr>\n",
       "    <tr>\n",
       "      <th>2024-08-28</th>\n",
       "      <td>11</td>\n",
       "      <td>linreg</td>\n",
       "      <td>BBG01C79X561</td>\n",
       "      <td>0.009195</td>\n",
       "      <td>0.000727</td>\n",
       "    </tr>\n",
       "    <tr>\n",
       "      <th>2024-08-28</th>\n",
       "      <td>11</td>\n",
       "      <td>linreg</td>\n",
       "      <td>BBG01K8GRMX6</td>\n",
       "      <td>-0.004321</td>\n",
       "      <td>0.000347</td>\n",
       "    </tr>\n",
       "    <tr>\n",
       "      <th>2024-08-28</th>\n",
       "      <td>11</td>\n",
       "      <td>linreg</td>\n",
       "      <td>BBG01MMT6PL7</td>\n",
       "      <td>0.000871</td>\n",
       "      <td>0.000641</td>\n",
       "    </tr>\n",
       "  </tbody>\n",
       "</table>\n",
       "<p>1012463 rows × 5 columns</p>\n",
       "</div>"
      ],
      "text/plain": [
       "            split   model       stockid    y_true    y_pred\n",
       "date                                                       \n",
       "2018-01-03      1  linreg  BBG000B9XG87 -0.002568  0.000702\n",
       "2018-01-03      1  linreg  BBG000B9XRY4  0.011385  0.000441\n",
       "2018-01-03      1  linreg  BBG000B9YJ35  0.012185  0.000466\n",
       "2018-01-03      1  linreg  BBG000B9ZXB4  0.002890  0.000670\n",
       "2018-01-03      1  linreg  BBG000BB03M1  0.006132  0.000950\n",
       "...           ...     ...           ...       ...       ...\n",
       "2024-08-28     11  linreg  BBG019Q32XJ9  0.005545  0.000623\n",
       "2024-08-28     11  linreg  BBG01BFR8YV1  0.008801  0.000708\n",
       "2024-08-28     11  linreg  BBG01C79X561  0.009195  0.000727\n",
       "2024-08-28     11  linreg  BBG01K8GRMX6 -0.004321  0.000347\n",
       "2024-08-28     11  linreg  BBG01MMT6PL7  0.000871  0.000641\n",
       "\n",
       "[1012463 rows x 5 columns]"
      ]
     },
     "execution_count": 3,
     "metadata": {},
     "output_type": "execute_result"
    }
   ],
   "source": [
    "port_path = '/Users/cyang/src/polymer_output/features_1_2_3_4_5_7_8_9_10/preds_all/linreg.csv'\n",
    "sig_df = pd.read_csv(port_path, parse_dates=['date'], index_col='date')\n",
    "sig_df\n"
   ]
  },
  {
   "cell_type": "code",
   "execution_count": 4,
   "id": "554bcf79",
   "metadata": {},
   "outputs": [],
   "source": [
    "sig_df['score'] = -1 + 2*sig_df.groupby('date', group_keys=False)['y_pred'].rank(pct=True)"
   ]
  },
  {
   "cell_type": "code",
   "execution_count": 7,
   "id": "13bd0e58",
   "metadata": {},
   "outputs": [
    {
     "data": {
      "text/plain": [
       "<Axes: xlabel='date'>"
      ]
     },
     "execution_count": 7,
     "metadata": {},
     "output_type": "execute_result"
    },
    {
     "data": {
      "image/png": "[encoded data removed]",
      "text/plain": [
       "<Figure size 640x480 with 1 Axes>"
      ]
     },
     "metadata": {},
     "output_type": "display_data"
    }
   ],
   "source": [
    "sig_df['ret'] = sig_df['score'] * sig_df['y_true']\n",
    "sig_df.groupby('date')['ret'].mean().cumsum().plot()"
   ]
  },
  {
   "cell_type": "code",
   "execution_count": 26,
   "id": "76ed00d5",
   "metadata": {},
   "outputs": [
    {
     "data": {
      "application/vnd.microsoft.datawrangler.viewer.v0+json": {
       "columns": [
        {
         "name": "date",
         "rawType": "datetime64[ns]",
         "type": "datetime"
        },
        {
         "name": "0",
         "rawType": "int64",
         "type": "integer"
        }
       ],
       "ref": "1a4f1a49-118d-4b5e-b6d6-49c152d9a878",
       "rows": [
        [
         "2018-01-05 00:00:00",
         "4"
        ],
        [
         "2018-01-10 00:00:00",
         "5"
        ],
        [
         "2018-01-11 00:00:00",
         "3"
        ],
        [
         "2018-01-12 00:00:00",
         "7"
        ],
        [
         "2018-01-18 00:00:00",
         "6"
        ],
        [
         "2018-01-19 00:00:00",
         "2"
        ],
        [
         "2018-01-24 00:00:00",
         "3"
        ],
        [
         "2018-01-25 00:00:00",
         "2"
        ],
        [
         "2018-01-26 00:00:00",
         "7"
        ],
        [
         "2018-01-31 00:00:00",
         "3"
        ],
        [
         "2018-02-01 00:00:00",
         "4"
        ],
        [
         "2018-02-02 00:00:00",
         "5"
        ],
        [
         "2018-02-07 00:00:00",
         "1"
        ],
        [
         "2018-02-08 00:00:00",
         "1"
        ],
        [
         "2018-02-09 00:00:00",
         "3"
        ],
        [
         "2018-02-14 00:00:00",
         "1"
        ],
        [
         "2018-02-15 00:00:00",
         "2"
        ],
        [
         "2018-02-16 00:00:00",
         "1"
        ],
        [
         "2018-02-22 00:00:00",
         "4"
        ],
        [
         "2018-02-23 00:00:00",
         "7"
        ],
        [
         "2018-02-28 00:00:00",
         "5"
        ],
        [
         "2018-03-01 00:00:00",
         "3"
        ],
        [
         "2018-03-02 00:00:00",
         "0"
        ],
        [
         "2018-03-07 00:00:00",
         "1"
        ],
        [
         "2018-03-08 00:00:00",
         "1"
        ],
        [
         "2018-03-09 00:00:00",
         "5"
        ],
        [
         "2018-03-14 00:00:00",
         "2"
        ],
        [
         "2018-03-15 00:00:00",
         "5"
        ],
        [
         "2018-03-16 00:00:00",
         "9"
        ],
        [
         "2018-03-21 00:00:00",
         "6"
        ],
        [
         "2018-03-22 00:00:00",
         "6"
        ],
        [
         "2018-03-23 00:00:00",
         "2"
        ],
        [
         "2018-03-28 00:00:00",
         "3"
        ],
        [
         "2018-03-29 00:00:00",
         "1"
        ],
        [
         "2018-04-04 00:00:00",
         "5"
        ],
        [
         "2018-04-05 00:00:00",
         "2"
        ],
        [
         "2018-04-06 00:00:00",
         "5"
        ],
        [
         "2018-04-11 00:00:00",
         "4"
        ],
        [
         "2018-04-12 00:00:00",
         "2"
        ],
        [
         "2018-04-13 00:00:00",
         "5"
        ],
        [
         "2018-04-18 00:00:00",
         "1"
        ],
        [
         "2018-04-19 00:00:00",
         "4"
        ],
        [
         "2018-04-20 00:00:00",
         "3"
        ],
        [
         "2018-04-25 00:00:00",
         "4"
        ],
        [
         "2018-04-26 00:00:00",
         "2"
        ],
        [
         "2018-04-27 00:00:00",
         "1"
        ],
        [
         "2018-05-02 00:00:00",
         "4"
        ],
        [
         "2018-05-03 00:00:00",
         "3"
        ],
        [
         "2018-05-04 00:00:00",
         "2"
        ],
        [
         "2018-05-09 00:00:00",
         "1"
        ]
       ],
       "shape": {
        "columns": 1,
        "rows": 966
       }
      },
      "text/plain": [
       "date\n",
       "2018-01-05     4\n",
       "2018-01-10     5\n",
       "2018-01-11     3\n",
       "2018-01-12     7\n",
       "2018-01-18     6\n",
       "              ..\n",
       "2024-08-16    11\n",
       "2024-08-21    12\n",
       "2024-08-22    16\n",
       "2024-08-23    15\n",
       "2024-08-28     8\n",
       "Length: 966, dtype: int64"
      ]
     },
     "execution_count": 26,
     "metadata": {},
     "output_type": "execute_result"
    }
   ],
   "source": [
    "(port_df<0).sum(axis=1)"
   ]
  },
  {
   "cell_type": "code",
   "execution_count": 2,
   "id": "f9212416",
   "metadata": {},
   "outputs": [],
   "source": [
    "OUT_DIR = \"/Users/cyang/src/polymer_output\"\n",
    "MODELS = [\n",
    "    # \"linreg\",\n",
    "    # \"ridge\",\n",
    "    # \"lasso\",\n",
    "    # \"elasticnet\",\n",
    "    # \"rf\",\n",
    "    \"lgbm\",\n",
    "]"
   ]
  },
  {
   "cell_type": "code",
   "execution_count": 3,
   "id": "c5851462",
   "metadata": {},
   "outputs": [],
   "source": [
    "model = \"lgbm\"\n",
    "\n",
    "preds_file = os.path.join(OUT_DIR, 'preds_all', f'{model}.csv')\n",
    "preds = pd.read_csv(preds_file, parse_dates=[\"date\"])\n"
   ]
  },
  {
   "cell_type": "code",
   "execution_count": 4,
   "id": "3cc1f95c",
   "metadata": {},
   "outputs": [
    {
     "data": {
      "application/vnd.microsoft.datawrangler.viewer.v0+json": {
       "columns": [
        {
         "name": "index",
         "rawType": "int64",
         "type": "integer"
        },
        {
         "name": "split",
         "rawType": "int64",
         "type": "integer"
        },
        {
         "name": "model",
         "rawType": "object",
         "type": "string"
        },
        {
         "name": "date",
         "rawType": "datetime64[ns]",
         "type": "datetime"
        },
        {
         "name": "stockid",
         "rawType": "object",
         "type": "string"
        },
        {
         "name": "y_true",
         "rawType": "float64",
         "type": "float"
        },
        {
         "name": "y_pred",
         "rawType": "float64",
         "type": "float"
        }
       ],
       "ref": "f0a9331a-7abc-45f9-86b4-b5682e766ab6",
       "rows": [
        [
         "0",
         "1",
         "lgbm",
         "2018-01-03 00:00:00",
         "BBG000B9XG87",
         "-0.0025682616923492",
         "0.0009778948611793"
        ],
        [
         "1",
         "1",
         "lgbm",
         "2018-01-03 00:00:00",
         "BBG000B9XRY4",
         "0.0113853089059701",
         "0.000232445366769"
        ],
        [
         "2",
         "1",
         "lgbm",
         "2018-01-03 00:00:00",
         "BBG000B9YJ35",
         "0.0121854902403249",
         "0.000867631872552"
        ],
        [
         "3",
         "1",
         "lgbm",
         "2018-01-03 00:00:00",
         "BBG000B9ZXB4",
         "0.0028901734104047",
         "0.0002495900735383"
        ],
        [
         "4",
         "1",
         "lgbm",
         "2018-01-03 00:00:00",
         "BBG000BB03M1",
         "0.0061315496098104",
         "0.0006991977185336"
        ],
        [
         "5",
         "1",
         "lgbm",
         "2018-01-03 00:00:00",
         "BBG000BB1TH9",
         "0.0028163725122043",
         "9.872967388458348e-05"
        ],
        [
         "6",
         "1",
         "lgbm",
         "2018-01-03 00:00:00",
         "BBG000BB5373",
         "0.0591259640102828",
         "0.0010749453330275"
        ],
        [
         "7",
         "1",
         "lgbm",
         "2018-01-03 00:00:00",
         "BBG000BB5B84",
         "0.0118494644042089",
         "-0.0003387668494136"
        ],
        [
         "8",
         "1",
         "lgbm",
         "2018-01-03 00:00:00",
         "BBG000BB5BF6",
         "0.0196506550218341",
         "0.000509673386611"
        ],
        [
         "9",
         "1",
         "lgbm",
         "2018-01-03 00:00:00",
         "BBG000BB6G37",
         "0.004052573932092",
         "0.0004823538952493"
        ],
        [
         "10",
         "1",
         "lgbm",
         "2018-01-03 00:00:00",
         "BBG000BB6M98",
         "-0.0069261213720316",
         "0.0010952431078596"
        ],
        [
         "11",
         "1",
         "lgbm",
         "2018-01-03 00:00:00",
         "BBG000BB9KF2",
         "-0.0021141649048627",
         "0.0002165483590189"
        ],
        [
         "12",
         "1",
         "lgbm",
         "2018-01-03 00:00:00",
         "BBG000BBBNC6",
         "0.0066188018846757",
         "-0.0001786830339067"
        ],
        [
         "13",
         "1",
         "lgbm",
         "2018-01-03 00:00:00",
         "BBG000BBCDZ2",
         "0.0015526394871281",
         "7.707809858093426e-05"
        ],
        [
         "14",
         "1",
         "lgbm",
         "2018-01-03 00:00:00",
         "BBG000BBD070",
         "0.0310338011464715",
         "0.0005358279784301"
        ],
        [
         "15",
         "1",
         "lgbm",
         "2018-01-03 00:00:00",
         "BBG000BBGGQ1",
         "0.0047013569825835",
         "0.0013376552928266"
        ],
        [
         "16",
         "1",
         "lgbm",
         "2018-01-03 00:00:00",
         "BBG000BBHXQ3",
         "0.0045871559633028",
         "0.000875458880661"
        ],
        [
         "17",
         "1",
         "lgbm",
         "2018-01-03 00:00:00",
         "BBG000BBJQV0",
         "0.0084741795027856",
         "-0.0006275294455587"
        ],
        [
         "18",
         "1",
         "lgbm",
         "2018-01-03 00:00:00",
         "BBG000BBNYF6",
         "0.0080186764108811",
         "0.0005561702248106"
        ],
        [
         "19",
         "1",
         "lgbm",
         "2018-01-03 00:00:00",
         "BBG000BBPFB9",
         "0.0057100755203536",
         "0.0005998872388871"
        ],
        [
         "20",
         "1",
         "lgbm",
         "2018-01-03 00:00:00",
         "BBG000BBQCY0",
         "-0.0198019801980197",
         "0.0008970921180093"
        ],
        [
         "21",
         "1",
         "lgbm",
         "2018-01-03 00:00:00",
         "BBG000BBS2Y0",
         "0.0059583472547053",
         "0.0005921567093334"
        ],
        [
         "22",
         "1",
         "lgbm",
         "2018-01-03 00:00:00",
         "BBG000BBVJZ8",
         "-0.0027758501040943",
         "0.0003279534660717"
        ],
        [
         "23",
         "1",
         "lgbm",
         "2018-01-03 00:00:00",
         "BBG000BBXLW4",
         "0.0170173833485818",
         "-0.0009793926035909"
        ],
        [
         "24",
         "1",
         "lgbm",
         "2018-01-03 00:00:00",
         "BBG000BC2C10",
         "-0.0096071733561059",
         "0.000134199236435"
        ],
        [
         "25",
         "1",
         "lgbm",
         "2018-01-03 00:00:00",
         "BBG000BC2R71",
         "0.0168236877523553",
         "0.0004430535682375"
        ],
        [
         "26",
         "1",
         "lgbm",
         "2018-01-03 00:00:00",
         "BBG000BC40Y8",
         "-0.011320754716981",
         "0.000684166746807"
        ],
        [
         "27",
         "1",
         "lgbm",
         "2018-01-03 00:00:00",
         "BBG000BC9938",
         "0.0001523925632427",
         "0.0009334535272548"
        ],
        [
         "28",
         "1",
         "lgbm",
         "2018-01-03 00:00:00",
         "BBG000BCG930",
         "0.0179401416098344",
         "0.0002266333049795"
        ],
        [
         "29",
         "1",
         "lgbm",
         "2018-01-03 00:00:00",
         "BBG000BCJ161",
         "-0.0508562532433836",
         "0.0012838762056534"
        ],
        [
         "30",
         "1",
         "lgbm",
         "2018-01-03 00:00:00",
         "BBG000BCMBG4",
         "0.0022727272727272",
         "0.0005852490489472"
        ],
        [
         "31",
         "1",
         "lgbm",
         "2018-01-03 00:00:00",
         "BBG000BCMWM1",
         "-0.008419844041525",
         "0.0011143566937276"
        ],
        [
         "32",
         "1",
         "lgbm",
         "2018-01-03 00:00:00",
         "BBG000BCQZS4",
         "0.0022806147744174",
         "0.0008588372469887"
        ],
        [
         "33",
         "1",
         "lgbm",
         "2018-01-03 00:00:00",
         "BBG000BCSST7",
         "0.0410220109886403",
         "0.0018166411905196"
        ],
        [
         "34",
         "1",
         "lgbm",
         "2018-01-03 00:00:00",
         "BBG000BCTLF6",
         "0.0046372971182508",
         "0.0003969257175675"
        ],
        [
         "35",
         "1",
         "lgbm",
         "2018-01-03 00:00:00",
         "BBG000BCTQ65",
         "-0.0070033955857384",
         "0.0002768083551715"
        ],
        [
         "36",
         "1",
         "lgbm",
         "2018-01-03 00:00:00",
         "BBG000BCVJ77",
         "0.0112556643765533",
         "0.0014595795239517"
        ],
        [
         "37",
         "1",
         "lgbm",
         "2018-01-03 00:00:00",
         "BBG000BCWCG1",
         "0.0236325802615933",
         "0.0004975002968316"
        ],
        [
         "38",
         "1",
         "lgbm",
         "2018-01-03 00:00:00",
         "BBG000BCZL41",
         "0.0088514006039779",
         "0.0006578252765296"
        ],
        [
         "39",
         "1",
         "lgbm",
         "2018-01-03 00:00:00",
         "BBG000BCZYD3",
         "0.004932349880085",
         "0.0007311246644697"
        ],
        [
         "40",
         "1",
         "lgbm",
         "2018-01-03 00:00:00",
         "BBG000BD3LM4",
         "-0.0087668030391583",
         "0.0007385232494604"
        ],
        [
         "41",
         "1",
         "lgbm",
         "2018-01-03 00:00:00",
         "BBG000BDDNH5",
         "0.00625814863103",
         "3.841155252076006e-05"
        ],
        [
         "42",
         "1",
         "lgbm",
         "2018-01-03 00:00:00",
         "BBG000BDWKC5",
         "0.007400828892836",
         "0.0009726836729923"
        ],
        [
         "43",
         "1",
         "lgbm",
         "2018-01-03 00:00:00",
         "BBG000BF0672",
         "-0.0102689486552567",
         "0.0007157843640909"
        ],
        [
         "44",
         "1",
         "lgbm",
         "2018-01-03 00:00:00",
         "BBG000BF6RQ9",
         "0.0029885057471263",
         "0.0010369343858974"
        ],
        [
         "45",
         "1",
         "lgbm",
         "2018-01-03 00:00:00",
         "BBG000BFC8J2",
         "-0.0158417697787777",
         "0.0013133112091839"
        ],
        [
         "46",
         "1",
         "lgbm",
         "2018-01-03 00:00:00",
         "BBG000BFDLV8",
         "0.0220257933632806",
         "0.0003140382620023"
        ],
        [
         "47",
         "1",
         "lgbm",
         "2018-01-03 00:00:00",
         "BBG000BFGNJ5",
         "-0.0320551682327979",
         "0.0009155602181145"
        ],
        [
         "48",
         "1",
         "lgbm",
         "2018-01-03 00:00:00",
         "BBG000BFJT36",
         "0.0026031237484982",
         "0.0001775850627881"
        ],
        [
         "49",
         "1",
         "lgbm",
         "2018-01-03 00:00:00",
         "BBG000BFL116",
         "0.0004339022273647",
         "0.0004589600388119"
        ]
       ],
       "shape": {
        "columns": 6,
        "rows": 1012463
       }
      },
      "text/html": [
       "<div>\n",
       "<style scoped>\n",
       "    .dataframe tbody tr th:only-of-type {\n",
       "        vertical-align: middle;\n",
       "    }\n",
       "\n",
       "    .dataframe tbody tr th {\n",
       "        vertical-align: top;\n",
       "    }\n",
       "\n",
       "    .dataframe thead th {\n",
       "        text-align: right;\n",
       "    }\n",
       "</style>\n",
       "<table border=\"1\" class=\"dataframe\">\n",
       "  <thead>\n",
       "    <tr style=\"text-align: right;\">\n",
       "      <th></th>\n",
       "      <th>split</th>\n",
       "      <th>model</th>\n",
       "      <th>date</th>\n",
       "      <th>stockid</th>\n",
       "      <th>y_true</th>\n",
       "      <th>y_pred</th>\n",
       "    </tr>\n",
       "  </thead>\n",
       "  <tbody>\n",
       "    <tr>\n",
       "      <th>0</th>\n",
       "      <td>1</td>\n",
       "      <td>lgbm</td>\n",
       "      <td>2018-01-03</td>\n",
       "      <td>BBG000B9XG87</td>\n",
       "      <td>-0.002568</td>\n",
       "      <td>0.000978</td>\n",
       "    </tr>\n",
       "    <tr>\n",
       "      <th>1</th>\n",
       "      <td>1</td>\n",
       "      <td>lgbm</td>\n",
       "      <td>2018-01-03</td>\n",
       "      <td>BBG000B9XRY4</td>\n",
       "      <td>0.011385</td>\n",
       "      <td>0.000232</td>\n",
       "    </tr>\n",
       "    <tr>\n",
       "      <th>2</th>\n",
       "      <td>1</td>\n",
       "      <td>lgbm</td>\n",
       "      <td>2018-01-03</td>\n",
       "      <td>BBG000B9YJ35</td>\n",
       "      <td>0.012185</td>\n",
       "      <td>0.000868</td>\n",
       "    </tr>\n",
       "    <tr>\n",
       "      <th>3</th>\n",
       "      <td>1</td>\n",
       "      <td>lgbm</td>\n",
       "      <td>2018-01-03</td>\n",
       "      <td>BBG000B9ZXB4</td>\n",
       "      <td>0.002890</td>\n",
       "      <td>0.000250</td>\n",
       "    </tr>\n",
       "    <tr>\n",
       "      <th>4</th>\n",
       "      <td>1</td>\n",
       "      <td>lgbm</td>\n",
       "      <td>2018-01-03</td>\n",
       "      <td>BBG000BB03M1</td>\n",
       "      <td>0.006132</td>\n",
       "      <td>0.000699</td>\n",
       "    </tr>\n",
       "    <tr>\n",
       "      <th>...</th>\n",
       "      <td>...</td>\n",
       "      <td>...</td>\n",
       "      <td>...</td>\n",
       "      <td>...</td>\n",
       "      <td>...</td>\n",
       "      <td>...</td>\n",
       "    </tr>\n",
       "    <tr>\n",
       "      <th>1012458</th>\n",
       "      <td>11</td>\n",
       "      <td>lgbm</td>\n",
       "      <td>2024-08-28</td>\n",
       "      <td>BBG019Q32XJ9</td>\n",
       "      <td>0.005545</td>\n",
       "      <td>0.000697</td>\n",
       "    </tr>\n",
       "    <tr>\n",
       "      <th>1012459</th>\n",
       "      <td>11</td>\n",
       "      <td>lgbm</td>\n",
       "      <td>2024-08-28</td>\n",
       "      <td>BBG01BFR8YV1</td>\n",
       "      <td>0.008801</td>\n",
       "      <td>0.000785</td>\n",
       "    </tr>\n",
       "    <tr>\n",
       "      <th>1012460</th>\n",
       "      <td>11</td>\n",
       "      <td>lgbm</td>\n",
       "      <td>2024-08-28</td>\n",
       "      <td>BBG01C79X561</td>\n",
       "      <td>0.009195</td>\n",
       "      <td>0.000680</td>\n",
       "    </tr>\n",
       "    <tr>\n",
       "      <th>1012461</th>\n",
       "      <td>11</td>\n",
       "      <td>lgbm</td>\n",
       "      <td>2024-08-28</td>\n",
       "      <td>BBG01K8GRMX6</td>\n",
       "      <td>-0.004321</td>\n",
       "      <td>0.000350</td>\n",
       "    </tr>\n",
       "    <tr>\n",
       "      <th>1012462</th>\n",
       "      <td>11</td>\n",
       "      <td>lgbm</td>\n",
       "      <td>2024-08-28</td>\n",
       "      <td>BBG01MMT6PL7</td>\n",
       "      <td>0.000871</td>\n",
       "      <td>0.000551</td>\n",
       "    </tr>\n",
       "  </tbody>\n",
       "</table>\n",
       "<p>1012463 rows × 6 columns</p>\n",
       "</div>"
      ],
      "text/plain": [
       "         split model       date       stockid    y_true    y_pred\n",
       "0            1  lgbm 2018-01-03  BBG000B9XG87 -0.002568  0.000978\n",
       "1            1  lgbm 2018-01-03  BBG000B9XRY4  0.011385  0.000232\n",
       "2            1  lgbm 2018-01-03  BBG000B9YJ35  0.012185  0.000868\n",
       "3            1  lgbm 2018-01-03  BBG000B9ZXB4  0.002890  0.000250\n",
       "4            1  lgbm 2018-01-03  BBG000BB03M1  0.006132  0.000699\n",
       "...        ...   ...        ...           ...       ...       ...\n",
       "1012458     11  lgbm 2024-08-28  BBG019Q32XJ9  0.005545  0.000697\n",
       "1012459     11  lgbm 2024-08-28  BBG01BFR8YV1  0.008801  0.000785\n",
       "1012460     11  lgbm 2024-08-28  BBG01C79X561  0.009195  0.000680\n",
       "1012461     11  lgbm 2024-08-28  BBG01K8GRMX6 -0.004321  0.000350\n",
       "1012462     11  lgbm 2024-08-28  BBG01MMT6PL7  0.000871  0.000551\n",
       "\n",
       "[1012463 rows x 6 columns]"
      ]
     },
     "execution_count": 4,
     "metadata": {},
     "output_type": "execute_result"
    }
   ],
   "source": [
    "preds"
   ]
  },
  {
   "cell_type": "code",
   "execution_count": 5,
   "id": "27981308",
   "metadata": {},
   "outputs": [
    {
     "name": "stdout",
     "output_type": "stream",
     "text": [
      "    split split_start  split_end model   n_obs      rmse       mae        r2  \\\n",
      "0       1  2018-01-03 2018-08-08  lgbm   78013  0.021620  0.013803 -0.002680   \n",
      "1       2  2018-08-09 2019-03-20  lgbm   83227  0.026912  0.015095 -0.001423   \n",
      "2       3  2019-03-21 2019-10-23  lgbm   76305  0.021988  0.014161 -0.007837   \n",
      "3       4  2019-10-24 2020-06-16  lgbm   90484  0.045436  0.028076 -0.001502   \n",
      "4       5  2020-06-17 2021-01-21  lgbm   93186  0.032265  0.019184 -0.011718   \n",
      "5       6  2021-01-22 2021-08-26  lgbm   95870  0.030905  0.017436 -0.005183   \n",
      "6       7  2021-08-27 2022-04-01  lgbm   99942  0.030073  0.018737 -0.008204   \n",
      "7       8  2022-04-04 2022-11-07  lgbm  102326  0.032054  0.021807 -0.005800   \n",
      "8       9  2022-11-08 2023-06-15  lgbm  100407  0.028173  0.017308 -0.003551   \n",
      "9      10  2023-06-16 2024-01-23  lgbm   93068  0.024483  0.015048 -0.008038   \n",
      "10     11  2024-01-24 2024-08-28  lgbm   99635  0.024823  0.015023 -0.007657   \n",
      "\n",
      "     pearson  spearman  avg_date_ic  \n",
      "0  -0.000586  0.006373     0.005654  \n",
      "1   0.002632  0.012853     0.003153  \n",
      "2  -0.009435 -0.003738    -0.002182  \n",
      "3   0.001209  0.000123     0.002508  \n",
      "4   0.003512  0.003348    -0.000879  \n",
      "5   0.008484  0.006564     0.006797  \n",
      "6  -0.006129 -0.007469    -0.003400  \n",
      "7   0.003944  0.009529     0.000127  \n",
      "8  -0.001949  0.001873     0.004824  \n",
      "9  -0.008376 -0.002785     0.004153  \n",
      "10  0.004763  0.006864     0.012189  \n"
     ]
    }
   ],
   "source": [
    "metrics = evaluate_predictions(\n",
    "    preds_df=preds,\n",
    "    by_date_ic=True,\n",
    "    out_csv=os.path.join(OUT_DIR, f\"metrics_{model}.csv\"),\n",
    ")\n",
    "print(metrics)"
   ]
  },
  {
   "cell_type": "code",
   "execution_count": 10,
   "id": "aac09a29",
   "metadata": {},
   "outputs": [
    {
     "data": {
      "application/vnd.microsoft.datawrangler.viewer.v0+json": {
       "columns": [
        {
         "name": "index",
         "rawType": "int64",
         "type": "integer"
        },
        {
         "name": "split",
         "rawType": "int64",
         "type": "integer"
        },
        {
         "name": "split_start",
         "rawType": "datetime64[ns]",
         "type": "datetime"
        },
        {
         "name": "split_end",
         "rawType": "datetime64[ns]",
         "type": "datetime"
        },
        {
         "name": "model",
         "rawType": "object",
         "type": "string"
        },
        {
         "name": "n_obs",
         "rawType": "int64",
         "type": "integer"
        },
        {
         "name": "rmse",
         "rawType": "float64",
         "type": "float"
        },
        {
         "name": "mae",
         "rawType": "float64",
         "type": "float"
        },
        {
         "name": "r2",
         "rawType": "float64",
         "type": "float"
        },
        {
         "name": "pearson",
         "rawType": "float64",
         "type": "float"
        },
        {
         "name": "spearman",
         "rawType": "float64",
         "type": "float"
        },
        {
         "name": "avg_date_ic",
         "rawType": "float64",
         "type": "float"
        }
       ],
       "ref": "3e019924-5a6f-4149-a403-4b295d6b96e0",
       "rows": [
        [
         "0",
         "1",
         "2018-01-03 00:00:00",
         "2018-08-08 00:00:00",
         "lgbm",
         "78013",
         "0.021619791332371935",
         "0.013802744042800909",
         "-0.0026804546195717815",
         "-0.000586344778196083",
         "0.006372765652679951",
         "0.005654383555731599"
        ],
        [
         "1",
         "2",
         "2018-08-09 00:00:00",
         "2019-03-20 00:00:00",
         "lgbm",
         "83227",
         "0.02691209276647825",
         "0.015095092324383868",
         "-0.0014230667626311533",
         "0.002632333894477888",
         "0.012853416397147927",
         "0.003152990799133317"
        ],
        [
         "2",
         "3",
         "2019-03-21 00:00:00",
         "2019-10-23 00:00:00",
         "lgbm",
         "76305",
         "0.021988113203550937",
         "0.014160629527708277",
         "-0.007837349007979055",
         "-0.009434544548014723",
         "-0.0037378238629086962",
         "-0.002182097871769637"
        ],
        [
         "3",
         "4",
         "2019-10-24 00:00:00",
         "2020-06-16 00:00:00",
         "lgbm",
         "90484",
         "0.04543611687889025",
         "0.028076364855614742",
         "-0.001501643193262181",
         "0.0012085830906490586",
         "0.00012258513640771193",
         "0.00250753241277554"
        ],
        [
         "4",
         "5",
         "2020-06-17 00:00:00",
         "2021-01-21 00:00:00",
         "lgbm",
         "93186",
         "0.03226534606741347",
         "0.019184431578177907",
         "-0.011718197284715126",
         "0.0035119705891304386",
         "0.0033480853315774354",
         "-0.0008789779605601668"
        ],
        [
         "5",
         "6",
         "2021-01-22 00:00:00",
         "2021-08-26 00:00:00",
         "lgbm",
         "95870",
         "0.030905211176374535",
         "0.017436172201601922",
         "-0.0051832428177989165",
         "0.008484342419989606",
         "0.006563811503633762",
         "0.006796951696780687"
        ],
        [
         "6",
         "7",
         "2021-08-27 00:00:00",
         "2022-04-01 00:00:00",
         "lgbm",
         "99942",
         "0.03007297049843571",
         "0.018736584231345006",
         "-0.008203797409548574",
         "-0.006129013641138192",
         "-0.007468698743775621",
         "-0.003400331034374119"
        ],
        [
         "7",
         "8",
         "2022-04-04 00:00:00",
         "2022-11-07 00:00:00",
         "lgbm",
         "102326",
         "0.032053776743340534",
         "0.02180686776730216",
         "-0.005800441855834171",
         "0.003944335135437917",
         "0.009528779150279967",
         "0.00012675924282794007"
        ],
        [
         "8",
         "9",
         "2022-11-08 00:00:00",
         "2023-06-15 00:00:00",
         "lgbm",
         "100407",
         "0.028172797638444772",
         "0.017307609833784866",
         "-0.003550709304439126",
         "-0.0019493855156636616",
         "0.001872525709916983",
         "0.004823872236108892"
        ],
        [
         "9",
         "10",
         "2023-06-16 00:00:00",
         "2024-01-23 00:00:00",
         "lgbm",
         "93068",
         "0.024482804620155323",
         "0.015048061699553335",
         "-0.008037723439947575",
         "-0.008376028969721158",
         "-0.002784566644216364",
         "0.004152779691823186"
        ],
        [
         "10",
         "11",
         "2024-01-24 00:00:00",
         "2024-08-28 00:00:00",
         "lgbm",
         "99635",
         "0.02482338381269392",
         "0.015022612889418533",
         "-0.007656774537285083",
         "0.00476288466086657",
         "0.0068640266134242026",
         "0.01218935518938101"
        ]
       ],
       "shape": {
        "columns": 11,
        "rows": 11
       }
      },
      "text/html": [
       "<div>\n",
       "<style scoped>\n",
       "    .dataframe tbody tr th:only-of-type {\n",
       "        vertical-align: middle;\n",
       "    }\n",
       "\n",
       "    .dataframe tbody tr th {\n",
       "        vertical-align: top;\n",
       "    }\n",
       "\n",
       "    .dataframe thead th {\n",
       "        text-align: right;\n",
       "    }\n",
       "</style>\n",
       "<table border=\"1\" class=\"dataframe\">\n",
       "  <thead>\n",
       "    <tr style=\"text-align: right;\">\n",
       "      <th></th>\n",
       "      <th>split</th>\n",
       "      <th>split_start</th>\n",
       "      <th>split_end</th>\n",
       "      <th>model</th>\n",
       "      <th>n_obs</th>\n",
       "      <th>rmse</th>\n",
       "      <th>mae</th>\n",
       "      <th>r2</th>\n",
       "      <th>pearson</th>\n",
       "      <th>spearman</th>\n",
       "      <th>avg_date_ic</th>\n",
       "    </tr>\n",
       "  </thead>\n",
       "  <tbody>\n",
       "    <tr>\n",
       "      <th>0</th>\n",
       "      <td>1</td>\n",
       "      <td>2018-01-03</td>\n",
       "      <td>2018-08-08</td>\n",
       "      <td>lgbm</td>\n",
       "      <td>78013</td>\n",
       "      <td>0.021620</td>\n",
       "      <td>0.013803</td>\n",
       "      <td>-0.002680</td>\n",
       "      <td>-0.000586</td>\n",
       "      <td>0.006373</td>\n",
       "      <td>0.005654</td>\n",
       "    </tr>\n",
       "    <tr>\n",
       "      <th>1</th>\n",
       "      <td>2</td>\n",
       "      <td>2018-08-09</td>\n",
       "      <td>2019-03-20</td>\n",
       "      <td>lgbm</td>\n",
       "      <td>83227</td>\n",
       "      <td>0.026912</td>\n",
       "      <td>0.015095</td>\n",
       "      <td>-0.001423</td>\n",
       "      <td>0.002632</td>\n",
       "      <td>0.012853</td>\n",
       "      <td>0.003153</td>\n",
       "    </tr>\n",
       "    <tr>\n",
       "      <th>2</th>\n",
       "      <td>3</td>\n",
       "      <td>2019-03-21</td>\n",
       "      <td>2019-10-23</td>\n",
       "      <td>lgbm</td>\n",
       "      <td>76305</td>\n",
       "      <td>0.021988</td>\n",
       "      <td>0.014161</td>\n",
       "      <td>-0.007837</td>\n",
       "      <td>-0.009435</td>\n",
       "      <td>-0.003738</td>\n",
       "      <td>-0.002182</td>\n",
       "    </tr>\n",
       "    <tr>\n",
       "      <th>3</th>\n",
       "      <td>4</td>\n",
       "      <td>2019-10-24</td>\n",
       "      <td>2020-06-16</td>\n",
       "      <td>lgbm</td>\n",
       "      <td>90484</td>\n",
       "      <td>0.045436</td>\n",
       "      <td>0.028076</td>\n",
       "      <td>-0.001502</td>\n",
       "      <td>0.001209</td>\n",
       "      <td>0.000123</td>\n",
       "      <td>0.002508</td>\n",
       "    </tr>\n",
       "    <tr>\n",
       "      <th>4</th>\n",
       "      <td>5</td>\n",
       "      <td>2020-06-17</td>\n",
       "      <td>2021-01-21</td>\n",
       "      <td>lgbm</td>\n",
       "      <td>93186</td>\n",
       "      <td>0.032265</td>\n",
       "      <td>0.019184</td>\n",
       "      <td>-0.011718</td>\n",
       "      <td>0.003512</td>\n",
       "      <td>0.003348</td>\n",
       "      <td>-0.000879</td>\n",
       "    </tr>\n",
       "    <tr>\n",
       "      <th>5</th>\n",
       "      <td>6</td>\n",
       "      <td>2021-01-22</td>\n",
       "      <td>2021-08-26</td>\n",
       "      <td>lgbm</td>\n",
       "      <td>95870</td>\n",
       "      <td>0.030905</td>\n",
       "      <td>0.017436</td>\n",
       "      <td>-0.005183</td>\n",
       "      <td>0.008484</td>\n",
       "      <td>0.006564</td>\n",
       "      <td>0.006797</td>\n",
       "    </tr>\n",
       "    <tr>\n",
       "      <th>6</th>\n",
       "      <td>7</td>\n",
       "      <td>2021-08-27</td>\n",
       "      <td>2022-04-01</td>\n",
       "      <td>lgbm</td>\n",
       "      <td>99942</td>\n",
       "      <td>0.030073</td>\n",
       "      <td>0.018737</td>\n",
       "      <td>-0.008204</td>\n",
       "      <td>-0.006129</td>\n",
       "      <td>-0.007469</td>\n",
       "      <td>-0.003400</td>\n",
       "    </tr>\n",
       "    <tr>\n",
       "      <th>7</th>\n",
       "      <td>8</td>\n",
       "      <td>2022-04-04</td>\n",
       "      <td>2022-11-07</td>\n",
       "      <td>lgbm</td>\n",
       "      <td>102326</td>\n",
       "      <td>0.032054</td>\n",
       "      <td>0.021807</td>\n",
       "      <td>-0.005800</td>\n",
       "      <td>0.003944</td>\n",
       "      <td>0.009529</td>\n",
       "      <td>0.000127</td>\n",
       "    </tr>\n",
       "    <tr>\n",
       "      <th>8</th>\n",
       "      <td>9</td>\n",
       "      <td>2022-11-08</td>\n",
       "      <td>2023-06-15</td>\n",
       "      <td>lgbm</td>\n",
       "      <td>100407</td>\n",
       "      <td>0.028173</td>\n",
       "      <td>0.017308</td>\n",
       "      <td>-0.003551</td>\n",
       "      <td>-0.001949</td>\n",
       "      <td>0.001873</td>\n",
       "      <td>0.004824</td>\n",
       "    </tr>\n",
       "    <tr>\n",
       "      <th>9</th>\n",
       "      <td>10</td>\n",
       "      <td>2023-06-16</td>\n",
       "      <td>2024-01-23</td>\n",
       "      <td>lgbm</td>\n",
       "      <td>93068</td>\n",
       "      <td>0.024483</td>\n",
       "      <td>0.015048</td>\n",
       "      <td>-0.008038</td>\n",
       "      <td>-0.008376</td>\n",
       "      <td>-0.002785</td>\n",
       "      <td>0.004153</td>\n",
       "    </tr>\n",
       "    <tr>\n",
       "      <th>10</th>\n",
       "      <td>11</td>\n",
       "      <td>2024-01-24</td>\n",
       "      <td>2024-08-28</td>\n",
       "      <td>lgbm</td>\n",
       "      <td>99635</td>\n",
       "      <td>0.024823</td>\n",
       "      <td>0.015023</td>\n",
       "      <td>-0.007657</td>\n",
       "      <td>0.004763</td>\n",
       "      <td>0.006864</td>\n",
       "      <td>0.012189</td>\n",
       "    </tr>\n",
       "  </tbody>\n",
       "</table>\n",
       "</div>"
      ],
      "text/plain": [
       "    split split_start  split_end model   n_obs      rmse       mae        r2  \\\n",
       "0       1  2018-01-03 2018-08-08  lgbm   78013  0.021620  0.013803 -0.002680   \n",
       "1       2  2018-08-09 2019-03-20  lgbm   83227  0.026912  0.015095 -0.001423   \n",
       "2       3  2019-03-21 2019-10-23  lgbm   76305  0.021988  0.014161 -0.007837   \n",
       "3       4  2019-10-24 2020-06-16  lgbm   90484  0.045436  0.028076 -0.001502   \n",
       "4       5  2020-06-17 2021-01-21  lgbm   93186  0.032265  0.019184 -0.011718   \n",
       "5       6  2021-01-22 2021-08-26  lgbm   95870  0.030905  0.017436 -0.005183   \n",
       "6       7  2021-08-27 2022-04-01  lgbm   99942  0.030073  0.018737 -0.008204   \n",
       "7       8  2022-04-04 2022-11-07  lgbm  102326  0.032054  0.021807 -0.005800   \n",
       "8       9  2022-11-08 2023-06-15  lgbm  100407  0.028173  0.017308 -0.003551   \n",
       "9      10  2023-06-16 2024-01-23  lgbm   93068  0.024483  0.015048 -0.008038   \n",
       "10     11  2024-01-24 2024-08-28  lgbm   99635  0.024823  0.015023 -0.007657   \n",
       "\n",
       "     pearson  spearman  avg_date_ic  \n",
       "0  -0.000586  0.006373     0.005654  \n",
       "1   0.002632  0.012853     0.003153  \n",
       "2  -0.009435 -0.003738    -0.002182  \n",
       "3   0.001209  0.000123     0.002508  \n",
       "4   0.003512  0.003348    -0.000879  \n",
       "5   0.008484  0.006564     0.006797  \n",
       "6  -0.006129 -0.007469    -0.003400  \n",
       "7   0.003944  0.009529     0.000127  \n",
       "8  -0.001949  0.001873     0.004824  \n",
       "9  -0.008376 -0.002785     0.004153  \n",
       "10  0.004763  0.006864     0.012189  "
      ]
     },
     "execution_count": 10,
     "metadata": {},
     "output_type": "execute_result"
    }
   ],
   "source": [
    "metrics"
   ]
  },
  {
   "cell_type": "code",
   "execution_count": 18,
   "id": "48a24144",
   "metadata": {},
   "outputs": [
    {
     "data": {
      "image/png": "[encoded data removed]",
      "text/plain": [
       "<Figure size 1200x1000 with 9 Axes>"
      ]
     },
     "metadata": {},
     "output_type": "display_data"
    }
   ],
   "source": [
    "fig, ax = plt.subplots(3, 3, figsize=(12,10))\n",
    "metrics_to_plot = [col for col in metrics.columns if col not in ['split', 'model', \"split_start\", 'split_end']]\n",
    "to_plot = metrics.set_index('split_start')[metrics_to_plot]\n",
    "# len of to_plot.columns and ax.flatten() do not match\n",
    "for metric in to_plot.columns:\n",
    "    to_plot[metric].plot(ax=ax.flatten()[metrics_to_plot.index(metric)], title=metric)\n",
    "\n",
    "\n",
    "\n",
    "\n",
    "plt.tight_layout()\n"
   ]
  },
  {
   "cell_type": "markdown",
   "id": "01157fad",
   "metadata": {},
   "source": [
    "# make portfolios"
   ]
  },
  {
   "cell_type": "code",
   "execution_count": 19,
   "id": "5d699b84",
   "metadata": {},
   "outputs": [
    {
     "data": {
      "application/vnd.microsoft.datawrangler.viewer.v0+json": {
       "columns": [
        {
         "name": "index",
         "rawType": "int64",
         "type": "integer"
        },
        {
         "name": "split",
         "rawType": "int64",
         "type": "integer"
        },
        {
         "name": "model",
         "rawType": "object",
         "type": "string"
        },
        {
         "name": "date",
         "rawType": "datetime64[ns]",
         "type": "datetime"
        },
        {
         "name": "stockid",
         "rawType": "object",
         "type": "string"
        },
        {
         "name": "y_true",
         "rawType": "float64",
         "type": "float"
        },
        {
         "name": "y_pred",
         "rawType": "float64",
         "type": "float"
        }
       ],
       "ref": "78e4a456-dee0-4f4c-b9ca-73a5dcee3081",
       "rows": [
        [
         "0",
         "1",
         "lgbm",
         "2018-01-03 00:00:00",
         "BBG000B9XG87",
         "-0.0025682616923492",
         "0.0009778948611793"
        ],
        [
         "1",
         "1",
         "lgbm",
         "2018-01-03 00:00:00",
         "BBG000B9XRY4",
         "0.0113853089059701",
         "0.000232445366769"
        ],
        [
         "2",
         "1",
         "lgbm",
         "2018-01-03 00:00:00",
         "BBG000B9YJ35",
         "0.0121854902403249",
         "0.000867631872552"
        ],
        [
         "3",
         "1",
         "lgbm",
         "2018-01-03 00:00:00",
         "BBG000B9ZXB4",
         "0.0028901734104047",
         "0.0002495900735383"
        ],
        [
         "4",
         "1",
         "lgbm",
         "2018-01-03 00:00:00",
         "BBG000BB03M1",
         "0.0061315496098104",
         "0.0006991977185336"
        ],
        [
         "5",
         "1",
         "lgbm",
         "2018-01-03 00:00:00",
         "BBG000BB1TH9",
         "0.0028163725122043",
         "9.872967388458348e-05"
        ],
        [
         "6",
         "1",
         "lgbm",
         "2018-01-03 00:00:00",
         "BBG000BB5373",
         "0.0591259640102828",
         "0.0010749453330275"
        ],
        [
         "7",
         "1",
         "lgbm",
         "2018-01-03 00:00:00",
         "BBG000BB5B84",
         "0.0118494644042089",
         "-0.0003387668494136"
        ],
        [
         "8",
         "1",
         "lgbm",
         "2018-01-03 00:00:00",
         "BBG000BB5BF6",
         "0.0196506550218341",
         "0.000509673386611"
        ],
        [
         "9",
         "1",
         "lgbm",
         "2018-01-03 00:00:00",
         "BBG000BB6G37",
         "0.004052573932092",
         "0.0004823538952493"
        ],
        [
         "10",
         "1",
         "lgbm",
         "2018-01-03 00:00:00",
         "BBG000BB6M98",
         "-0.0069261213720316",
         "0.0010952431078596"
        ],
        [
         "11",
         "1",
         "lgbm",
         "2018-01-03 00:00:00",
         "BBG000BB9KF2",
         "-0.0021141649048627",
         "0.0002165483590189"
        ],
        [
         "12",
         "1",
         "lgbm",
         "2018-01-03 00:00:00",
         "BBG000BBBNC6",
         "0.0066188018846757",
         "-0.0001786830339067"
        ],
        [
         "13",
         "1",
         "lgbm",
         "2018-01-03 00:00:00",
         "BBG000BBCDZ2",
         "0.0015526394871281",
         "7.707809858093426e-05"
        ],
        [
         "14",
         "1",
         "lgbm",
         "2018-01-03 00:00:00",
         "BBG000BBD070",
         "0.0310338011464715",
         "0.0005358279784301"
        ],
        [
         "15",
         "1",
         "lgbm",
         "2018-01-03 00:00:00",
         "BBG000BBGGQ1",
         "0.0047013569825835",
         "0.0013376552928266"
        ],
        [
         "16",
         "1",
         "lgbm",
         "2018-01-03 00:00:00",
         "BBG000BBHXQ3",
         "0.0045871559633028",
         "0.000875458880661"
        ],
        [
         "17",
         "1",
         "lgbm",
         "2018-01-03 00:00:00",
         "BBG000BBJQV0",
         "0.0084741795027856",
         "-0.0006275294455587"
        ],
        [
         "18",
         "1",
         "lgbm",
         "2018-01-03 00:00:00",
         "BBG000BBNYF6",
         "0.0080186764108811",
         "0.0005561702248106"
        ],
        [
         "19",
         "1",
         "lgbm",
         "2018-01-03 00:00:00",
         "BBG000BBPFB9",
         "0.0057100755203536",
         "0.0005998872388871"
        ],
        [
         "20",
         "1",
         "lgbm",
         "2018-01-03 00:00:00",
         "BBG000BBQCY0",
         "-0.0198019801980197",
         "0.0008970921180093"
        ],
        [
         "21",
         "1",
         "lgbm",
         "2018-01-03 00:00:00",
         "BBG000BBS2Y0",
         "0.0059583472547053",
         "0.0005921567093334"
        ],
        [
         "22",
         "1",
         "lgbm",
         "2018-01-03 00:00:00",
         "BBG000BBVJZ8",
         "-0.0027758501040943",
         "0.0003279534660717"
        ],
        [
         "23",
         "1",
         "lgbm",
         "2018-01-03 00:00:00",
         "BBG000BBXLW4",
         "0.0170173833485818",
         "-0.0009793926035909"
        ],
        [
         "24",
         "1",
         "lgbm",
         "2018-01-03 00:00:00",
         "BBG000BC2C10",
         "-0.0096071733561059",
         "0.000134199236435"
        ],
        [
         "25",
         "1",
         "lgbm",
         "2018-01-03 00:00:00",
         "BBG000BC2R71",
         "0.0168236877523553",
         "0.0004430535682375"
        ],
        [
         "26",
         "1",
         "lgbm",
         "2018-01-03 00:00:00",
         "BBG000BC40Y8",
         "-0.011320754716981",
         "0.000684166746807"
        ],
        [
         "27",
         "1",
         "lgbm",
         "2018-01-03 00:00:00",
         "BBG000BC9938",
         "0.0001523925632427",
         "0.0009334535272548"
        ],
        [
         "28",
         "1",
         "lgbm",
         "2018-01-03 00:00:00",
         "BBG000BCG930",
         "0.0179401416098344",
         "0.0002266333049795"
        ],
        [
         "29",
         "1",
         "lgbm",
         "2018-01-03 00:00:00",
         "BBG000BCJ161",
         "-0.0508562532433836",
         "0.0012838762056534"
        ],
        [
         "30",
         "1",
         "lgbm",
         "2018-01-03 00:00:00",
         "BBG000BCMBG4",
         "0.0022727272727272",
         "0.0005852490489472"
        ],
        [
         "31",
         "1",
         "lgbm",
         "2018-01-03 00:00:00",
         "BBG000BCMWM1",
         "-0.008419844041525",
         "0.0011143566937276"
        ],
        [
         "32",
         "1",
         "lgbm",
         "2018-01-03 00:00:00",
         "BBG000BCQZS4",
         "0.0022806147744174",
         "0.0008588372469887"
        ],
        [
         "33",
         "1",
         "lgbm",
         "2018-01-03 00:00:00",
         "BBG000BCSST7",
         "0.0410220109886403",
         "0.0018166411905196"
        ],
        [
         "34",
         "1",
         "lgbm",
         "2018-01-03 00:00:00",
         "BBG000BCTLF6",
         "0.0046372971182508",
         "0.0003969257175675"
        ],
        [
         "35",
         "1",
         "lgbm",
         "2018-01-03 00:00:00",
         "BBG000BCTQ65",
         "-0.0070033955857384",
         "0.0002768083551715"
        ],
        [
         "36",
         "1",
         "lgbm",
         "2018-01-03 00:00:00",
         "BBG000BCVJ77",
         "0.0112556643765533",
         "0.0014595795239517"
        ],
        [
         "37",
         "1",
         "lgbm",
         "2018-01-03 00:00:00",
         "BBG000BCWCG1",
         "0.0236325802615933",
         "0.0004975002968316"
        ],
        [
         "38",
         "1",
         "lgbm",
         "2018-01-03 00:00:00",
         "BBG000BCZL41",
         "0.0088514006039779",
         "0.0006578252765296"
        ],
        [
         "39",
         "1",
         "lgbm",
         "2018-01-03 00:00:00",
         "BBG000BCZYD3",
         "0.004932349880085",
         "0.0007311246644697"
        ],
        [
         "40",
         "1",
         "lgbm",
         "2018-01-03 00:00:00",
         "BBG000BD3LM4",
         "-0.0087668030391583",
         "0.0007385232494604"
        ],
        [
         "41",
         "1",
         "lgbm",
         "2018-01-03 00:00:00",
         "BBG000BDDNH5",
         "0.00625814863103",
         "3.841155252076006e-05"
        ],
        [
         "42",
         "1",
         "lgbm",
         "2018-01-03 00:00:00",
         "BBG000BDWKC5",
         "0.007400828892836",
         "0.0009726836729923"
        ],
        [
         "43",
         "1",
         "lgbm",
         "2018-01-03 00:00:00",
         "BBG000BF0672",
         "-0.0102689486552567",
         "0.0007157843640909"
        ],
        [
         "44",
         "1",
         "lgbm",
         "2018-01-03 00:00:00",
         "BBG000BF6RQ9",
         "0.0029885057471263",
         "0.0010369343858974"
        ],
        [
         "45",
         "1",
         "lgbm",
         "2018-01-03 00:00:00",
         "BBG000BFC8J2",
         "-0.0158417697787777",
         "0.0013133112091839"
        ],
        [
         "46",
         "1",
         "lgbm",
         "2018-01-03 00:00:00",
         "BBG000BFDLV8",
         "0.0220257933632806",
         "0.0003140382620023"
        ],
        [
         "47",
         "1",
         "lgbm",
         "2018-01-03 00:00:00",
         "BBG000BFGNJ5",
         "-0.0320551682327979",
         "0.0009155602181145"
        ],
        [
         "48",
         "1",
         "lgbm",
         "2018-01-03 00:00:00",
         "BBG000BFJT36",
         "0.0026031237484982",
         "0.0001775850627881"
        ],
        [
         "49",
         "1",
         "lgbm",
         "2018-01-03 00:00:00",
         "BBG000BFL116",
         "0.0004339022273647",
         "0.0004589600388119"
        ]
       ],
       "shape": {
        "columns": 6,
        "rows": 1012463
       }
      },
      "text/html": [
       "<div>\n",
       "<style scoped>\n",
       "    .dataframe tbody tr th:only-of-type {\n",
       "        vertical-align: middle;\n",
       "    }\n",
       "\n",
       "    .dataframe tbody tr th {\n",
       "        vertical-align: top;\n",
       "    }\n",
       "\n",
       "    .dataframe thead th {\n",
       "        text-align: right;\n",
       "    }\n",
       "</style>\n",
       "<table border=\"1\" class=\"dataframe\">\n",
       "  <thead>\n",
       "    <tr style=\"text-align: right;\">\n",
       "      <th></th>\n",
       "      <th>split</th>\n",
       "      <th>model</th>\n",
       "      <th>date</th>\n",
       "      <th>stockid</th>\n",
       "      <th>y_true</th>\n",
       "      <th>y_pred</th>\n",
       "    </tr>\n",
       "  </thead>\n",
       "  <tbody>\n",
       "    <tr>\n",
       "      <th>0</th>\n",
       "      <td>1</td>\n",
       "      <td>lgbm</td>\n",
       "      <td>2018-01-03</td>\n",
       "      <td>BBG000B9XG87</td>\n",
       "      <td>-0.002568</td>\n",
       "      <td>0.000978</td>\n",
       "    </tr>\n",
       "    <tr>\n",
       "      <th>1</th>\n",
       "      <td>1</td>\n",
       "      <td>lgbm</td>\n",
       "      <td>2018-01-03</td>\n",
       "      <td>BBG000B9XRY4</td>\n",
       "      <td>0.011385</td>\n",
       "      <td>0.000232</td>\n",
       "    </tr>\n",
       "    <tr>\n",
       "      <th>2</th>\n",
       "      <td>1</td>\n",
       "      <td>lgbm</td>\n",
       "      <td>2018-01-03</td>\n",
       "      <td>BBG000B9YJ35</td>\n",
       "      <td>0.012185</td>\n",
       "      <td>0.000868</td>\n",
       "    </tr>\n",
       "    <tr>\n",
       "      <th>3</th>\n",
       "      <td>1</td>\n",
       "      <td>lgbm</td>\n",
       "      <td>2018-01-03</td>\n",
       "      <td>BBG000B9ZXB4</td>\n",
       "      <td>0.002890</td>\n",
       "      <td>0.000250</td>\n",
       "    </tr>\n",
       "    <tr>\n",
       "      <th>4</th>\n",
       "      <td>1</td>\n",
       "      <td>lgbm</td>\n",
       "      <td>2018-01-03</td>\n",
       "      <td>BBG000BB03M1</td>\n",
       "      <td>0.006132</td>\n",
       "      <td>0.000699</td>\n",
       "    </tr>\n",
       "    <tr>\n",
       "      <th>...</th>\n",
       "      <td>...</td>\n",
       "      <td>...</td>\n",
       "      <td>...</td>\n",
       "      <td>...</td>\n",
       "      <td>...</td>\n",
       "      <td>...</td>\n",
       "    </tr>\n",
       "    <tr>\n",
       "      <th>1012458</th>\n",
       "      <td>11</td>\n",
       "      <td>lgbm</td>\n",
       "      <td>2024-08-28</td>\n",
       "      <td>BBG019Q32XJ9</td>\n",
       "      <td>0.005545</td>\n",
       "      <td>0.000697</td>\n",
       "    </tr>\n",
       "    <tr>\n",
       "      <th>1012459</th>\n",
       "      <td>11</td>\n",
       "      <td>lgbm</td>\n",
       "      <td>2024-08-28</td>\n",
       "      <td>BBG01BFR8YV1</td>\n",
       "      <td>0.008801</td>\n",
       "      <td>0.000785</td>\n",
       "    </tr>\n",
       "    <tr>\n",
       "      <th>1012460</th>\n",
       "      <td>11</td>\n",
       "      <td>lgbm</td>\n",
       "      <td>2024-08-28</td>\n",
       "      <td>BBG01C79X561</td>\n",
       "      <td>0.009195</td>\n",
       "      <td>0.000680</td>\n",
       "    </tr>\n",
       "    <tr>\n",
       "      <th>1012461</th>\n",
       "      <td>11</td>\n",
       "      <td>lgbm</td>\n",
       "      <td>2024-08-28</td>\n",
       "      <td>BBG01K8GRMX6</td>\n",
       "      <td>-0.004321</td>\n",
       "      <td>0.000350</td>\n",
       "    </tr>\n",
       "    <tr>\n",
       "      <th>1012462</th>\n",
       "      <td>11</td>\n",
       "      <td>lgbm</td>\n",
       "      <td>2024-08-28</td>\n",
       "      <td>BBG01MMT6PL7</td>\n",
       "      <td>0.000871</td>\n",
       "      <td>0.000551</td>\n",
       "    </tr>\n",
       "  </tbody>\n",
       "</table>\n",
       "<p>1012463 rows × 6 columns</p>\n",
       "</div>"
      ],
      "text/plain": [
       "         split model       date       stockid    y_true    y_pred\n",
       "0            1  lgbm 2018-01-03  BBG000B9XG87 -0.002568  0.000978\n",
       "1            1  lgbm 2018-01-03  BBG000B9XRY4  0.011385  0.000232\n",
       "2            1  lgbm 2018-01-03  BBG000B9YJ35  0.012185  0.000868\n",
       "3            1  lgbm 2018-01-03  BBG000B9ZXB4  0.002890  0.000250\n",
       "4            1  lgbm 2018-01-03  BBG000BB03M1  0.006132  0.000699\n",
       "...        ...   ...        ...           ...       ...       ...\n",
       "1012458     11  lgbm 2024-08-28  BBG019Q32XJ9  0.005545  0.000697\n",
       "1012459     11  lgbm 2024-08-28  BBG01BFR8YV1  0.008801  0.000785\n",
       "1012460     11  lgbm 2024-08-28  BBG01C79X561  0.009195  0.000680\n",
       "1012461     11  lgbm 2024-08-28  BBG01K8GRMX6 -0.004321  0.000350\n",
       "1012462     11  lgbm 2024-08-28  BBG01MMT6PL7  0.000871  0.000551\n",
       "\n",
       "[1012463 rows x 6 columns]"
      ]
     },
     "execution_count": 19,
     "metadata": {},
     "output_type": "execute_result"
    }
   ],
   "source": [
    "preds"
   ]
  },
  {
   "cell_type": "code",
   "execution_count": null,
   "id": "3c397442",
   "metadata": {},
   "outputs": [],
   "source": []
  }
 ],
 "metadata": {
  "kernelspec": {
   "display_name": ".venv (3.9.6)",
   "language": "python",
   "name": "python3"
  },
  "language_info": {
   "codemirror_mode": {
    "name": "ipython",
    "version": 3
   },
   "file_extension": ".py",
   "mimetype": "text/x-python",
   "name": "python",
   "nbconvert_exporter": "python",
   "pygments_lexer": "ipython3",
   "version": "3.9.6"
  }
 },
 "nbformat": 4,
 "nbformat_minor": 5
}
